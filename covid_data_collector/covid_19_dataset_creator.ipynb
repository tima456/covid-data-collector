{
 "cells": [
  {
   "cell_type": "code",
   "execution_count": 10,
   "metadata": {},
   "outputs": [
    {
     "name": "stdout",
     "output_type": "stream",
     "text": [
      "Requirement already satisfied: selenium in d:\\a\\lib\\site-packages (3.141.0)\n",
      "Requirement already satisfied: urllib3 in d:\\a\\lib\\site-packages (from selenium) (1.24.1)\n",
      "Note: you may need to restart the kernel to use updated packages.\n"
     ]
    }
   ],
   "source": [
    "pip install selenium\n"
   ]
  },
  {
   "cell_type": "code",
   "execution_count": 16,
   "metadata": {},
   "outputs": [
    {
     "name": "stdout",
     "output_type": "stream",
     "text": [
      "Empty DataFrame\n",
      "Columns: [Rank, Country, Total Cases, New Cases, Deaths, New Deaths, Recovered, Active Cases, Critical]\n",
      "Index: []\n"
     ]
    }
   ],
   "source": [
    "from selenium import webdriver\n",
    "import pandas as pd\n",
    "import time\n",
    "\n",
    "\n",
    "browser=webdriver.Chrome('C:\\\\Users\\\\HP\\\\Desktop\\\\chromedrive\\\\chromedriver.exe')\n",
    "browser.get('https://www.worldometers.info/coronavirus/')\n",
    "time.sleep(60)\n",
    "df=pd.DataFrame(columns=['Rank','Country','Total Cases','New Cases','Deaths','New Deaths','Recovered','Active Cases','Critical'])\n",
    "print(df)\n",
    "\n",
    "\n"
   ]
  },
  {
   "cell_type": "code",
   "execution_count": 17,
   "metadata": {},
   "outputs": [
    {
     "name": "stdout",
     "output_type": "stream",
     "text": [
      "    Rank                Country  Total Cases New Cases     Deaths New Deaths  \\\n",
      "0                         World  188,657,729   +76,357  4,066,867     +1,524   \n",
      "1                                                                              \n",
      "2                                                                              \n",
      "3                                                                              \n",
      "4      1                    USA   34,807,813              623,435              \n",
      "5                                                                              \n",
      "6      2                  India   30,946,074    +1,125    411,439              \n",
      "7      3                 Brazil   19,152,065              535,924              \n",
      "8                                                                              \n",
      "9      4                 Russia    5,857,002   +23,827    145,278       +786   \n",
      "10     5                 France    5,820,849              111,407              \n",
      "11     6                 Turkey    5,493,244               50,324              \n",
      "12     7                     UK    5,191,459              128,481              \n",
      "13     8              Argentina    4,682,960               99,640              \n",
      "14     9               Colombia    4,548,142              113,839              \n",
      "15    10                  Italy    4,273,693              127,808              \n",
      "16    11                  Spain    4,015,084               81,033              \n",
      "17    12                Germany    3,745,287               91,799              \n",
      "18    13                   Iran    3,417,029               86,207              \n",
      "19    14                 Poland    2,881,046       +86     75,179         +6   \n",
      "20    15              Indonesia    2,615,529               68,219              \n",
      "21    16                 Mexico    2,604,711   +11,137    235,277       +219   \n",
      "22    17                Ukraine    2,242,245      +547     52,665        +25   \n",
      "23    18           South Africa    2,219,316               65,142              \n",
      "24    19                   Peru    2,083,567              194,606              \n",
      "25    20            Netherlands    1,744,700               17,769              \n",
      "26    21                Czechia    1,670,073      +317     30,335              \n",
      "27    22                  Chile    1,590,887               34,016              \n",
      "28    23            Philippines    1,485,457    +3,806     26,232       +140   \n",
      "29    24                   Iraq    1,447,557               17,630              \n",
      "..   ...                    ...          ...       ...        ...        ...   \n",
      "208  201  Saint Kitts and Nevis          540                    3              \n",
      "209  202               Tanzania          509                   21              \n",
      "210  203      Wallis and Futuna          445                    7              \n",
      "211  204                 Brunei          282                    3              \n",
      "212  205               Dominica          199                                   \n",
      "213  206                Grenada          161                    1              \n",
      "214  207          New Caledonia          129                                   \n",
      "215  208               Anguilla          111                                   \n",
      "216  209              Greenland           64                                   \n",
      "217  210       Falkland Islands           63                                   \n",
      "218  211                  Macao           55                                   \n",
      "219  212           Vatican City           27                                   \n",
      "220  213  Saint Pierre Miquelon           26                                   \n",
      "221  214             Montserrat           21        +1          1              \n",
      "222  215        Solomon Islands           20                                   \n",
      "223  216         Western Sahara           10                    1              \n",
      "224  217             MS Zaandam            9                    2              \n",
      "225  218                Vanuatu            4                    1              \n",
      "226  219       Marshall Islands            4                                   \n",
      "227  220                  Samoa            3                                   \n",
      "228  221           Saint Helena            2                                   \n",
      "229  222             Micronesia            1                                   \n",
      "230                                                                            \n",
      "231                                                                            \n",
      "232                                                                            \n",
      "233                                                                            \n",
      "234                                                                            \n",
      "235                                                                            \n",
      "236                                                                            \n",
      "237                      Total:  188,657,729   +76,357  4,066,867     +1,524   \n",
      "\n",
      "       Recovered Active Cases    Critical  \n",
      "0    172,472,362      +64,612  12,118,500  \n",
      "1                                          \n",
      "2                                          \n",
      "3                                          \n",
      "4     29,304,451                4,879,927  \n",
      "5                                          \n",
      "6     30,104,720       +7,624     429,915  \n",
      "7     17,770,617                  845,524  \n",
      "8                                          \n",
      "9      5,257,483      +21,269     454,241  \n",
      "10     5,650,915                   58,527  \n",
      "11     5,360,012                   82,908  \n",
      "12     4,368,126                  694,852  \n",
      "13     4,314,593                  268,727  \n",
      "14     4,299,931                  134,372  \n",
      "15     4,105,236                   40,649  \n",
      "16     3,652,580                  281,471  \n",
      "17     3,636,800         +900      16,688  \n",
      "18     3,056,160                  274,662  \n",
      "19     2,652,604                  153,263  \n",
      "20     2,139,601                  407,709  \n",
      "21     2,056,317       +4,960     313,117  \n",
      "22     2,179,076         +797      10,504  \n",
      "23     1,961,448                  192,726  \n",
      "24           N/A          N/A         N/A  \n",
      "25     1,654,975                   71,956  \n",
      "26     1,637,367           +3       2,371  \n",
      "27     1,540,595                   16,276  \n",
      "28     1,414,817       +6,296      44,408  \n",
      "29     1,320,260                  109,667  \n",
      "..           ...          ...         ...  \n",
      "208          423                      114  \n",
      "209          183                      305  \n",
      "210          438                        0  \n",
      "211          256                       23  \n",
      "212          194                        5  \n",
      "213          160                        0  \n",
      "214           58                       71  \n",
      "215          109                        2  \n",
      "216           51                       13  \n",
      "217           63                        0  \n",
      "218           53                        2  \n",
      "219           27                        0  \n",
      "220           26                        0  \n",
      "221           19                        1  \n",
      "222           20                        0  \n",
      "223            8                        1  \n",
      "224            7                        0  \n",
      "225            3                        0  \n",
      "226            4                        0  \n",
      "227            3                        0  \n",
      "228            2                        0  \n",
      "229            1                        0  \n",
      "230                                        \n",
      "231                                        \n",
      "232                                        \n",
      "233                                        \n",
      "234                                        \n",
      "235                                        \n",
      "236                                        \n",
      "237  172,472,362      +64,612  12,118,500  \n",
      "\n",
      "[238 rows x 9 columns]\n"
     ]
    }
   ],
   "source": [
    "for i in browser.find_elements_by_xpath('//*[@id=\"main_table_countries_today\"]/tbody/tr'): # tr for each of country\n",
    "    td_list=i.find_elements_by_tag_name('td') # tag name retrieve each piece of info for a country\n",
    "    row=[]\n",
    "    for td in td_list:\n",
    "        row.append(td.text) # creating row ie each country data\n",
    "    data = {}\n",
    "    for j in range(len(df.columns)):\n",
    "        data[df.columns[j]] = row[j] \n",
    "    df = df.append(data, ignore_index=True)\n",
    "    \n",
    "print(df)"
   ]
  },
  {
   "cell_type": "code",
   "execution_count": 18,
   "metadata": {},
   "outputs": [],
   "source": [
    "import os\n"
   ]
  },
  {
   "cell_type": "code",
   "execution_count": 19,
   "metadata": {},
   "outputs": [
    {
     "name": "stdout",
     "output_type": "stream",
     "text": [
      "The data has been stored at C:\\Users\\HP\\Desktop\\chromedrive\\Covid.csv.\n"
     ]
    }
   ],
   "source": [
    "df=df[1:]\n",
    "path=('C:\\\\Users\\\\HP\\\\Desktop\\\\chromedrive')\n",
    "path1=os.path.join(path,'Covid.csv')\n",
    "df.to_csv(path1,index=False)\n",
    "print(\"The data has been stored at \"+path1+\".\")"
   ]
  },
  {
   "cell_type": "code",
   "execution_count": null,
   "metadata": {},
   "outputs": [],
   "source": []
  }
 ],
 "metadata": {
  "kernelspec": {
   "display_name": "Python 3",
   "language": "python",
   "name": "python3"
  },
  "language_info": {
   "codemirror_mode": {
    "name": "ipython",
    "version": 3
   },
   "file_extension": ".py",
   "mimetype": "text/x-python",
   "name": "python",
   "nbconvert_exporter": "python",
   "pygments_lexer": "ipython3",
   "version": "3.7.3"
  }
 },
 "nbformat": 4,
 "nbformat_minor": 5
}
